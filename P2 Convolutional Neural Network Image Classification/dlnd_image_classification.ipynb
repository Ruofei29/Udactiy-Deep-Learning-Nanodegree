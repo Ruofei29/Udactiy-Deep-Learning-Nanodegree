{
 "cells": [
  {
   "cell_type": "markdown",
   "metadata": {
    "collapsed": true,
    "deletable": true,
    "editable": true
   },
   "source": [
    "# Image Classification\n",
    "In this project, you'll classify images from the [CIFAR-10 dataset](https://www.cs.toronto.edu/~kriz/cifar.html).  The dataset consists of airplanes, dogs, cats, and other objects. You'll preprocess the images, then train a convolutional neural network on all the samples. The images need to be normalized and the labels need to be one-hot encoded.  You'll get to apply what you learned and build a convolutional, max pooling, dropout, and fully connected layers.  At the end, you'll get to see your neural network's predictions on the sample images.\n",
    "## Get the Data\n",
    "Run the following cell to download the [CIFAR-10 dataset for python](https://www.cs.toronto.edu/~kriz/cifar-10-python.tar.gz)."
   ]
  },
  {
   "cell_type": "code",
   "execution_count": 2,
   "metadata": {
    "collapsed": false,
    "deletable": true,
    "editable": true
   },
   "outputs": [
    {
     "name": "stdout",
     "output_type": "stream",
     "text": [
      "All files found!\n"
     ]
    }
   ],
   "source": [
    "\"\"\"\n",
    "DON'T MODIFY ANYTHING IN THIS CELL THAT IS BELOW THIS LINE\n",
    "\"\"\"\n",
    "from urllib.request import urlretrieve\n",
    "from os.path import isfile, isdir\n",
    "from tqdm import tqdm\n",
    "import problem_unittests as tests\n",
    "import tarfile\n",
    "\n",
    "cifar10_dataset_folder_path = 'cifar-10-batches-py'\n",
    "\n",
    "class DLProgress(tqdm):\n",
    "    last_block = 0\n",
    "\n",
    "    def hook(self, block_num=1, block_size=1, total_size=None):\n",
    "        self.total = total_size\n",
    "        self.update((block_num - self.last_block) * block_size)\n",
    "        self.last_block = block_num\n",
    "\n",
    "if not isfile('cifar-10-python.tar.gz'):\n",
    "    with DLProgress(unit='B', unit_scale=True, miniters=1, desc='CIFAR-10 Dataset') as pbar:\n",
    "        urlretrieve(\n",
    "            'https://www.cs.toronto.edu/~kriz/cifar-10-python.tar.gz',\n",
    "            'cifar-10-python.tar.gz',\n",
    "            pbar.hook)\n",
    "\n",
    "if not isdir(cifar10_dataset_folder_path):\n",
    "    with tarfile.open('cifar-10-python.tar.gz') as tar:\n",
    "        tar.extractall()\n",
    "        tar.close()\n",
    "\n",
    "\n",
    "tests.test_folder_path(cifar10_dataset_folder_path)"
   ]
  },
  {
   "cell_type": "markdown",
   "metadata": {
    "deletable": true,
    "editable": true
   },
   "source": [
    "## Explore the Data\n",
    "The dataset is broken into batches to prevent your machine from running out of memory.  The CIFAR-10 dataset consists of 5 batches, named `data_batch_1`, `data_batch_2`, etc.. Each batch contains the labels and images that are one of the following:\n",
    "* airplane\n",
    "* automobile\n",
    "* bird\n",
    "* cat\n",
    "* deer\n",
    "* dog\n",
    "* frog\n",
    "* horse\n",
    "* ship\n",
    "* truck\n",
    "\n",
    "Understanding a dataset is part of making predictions on the data.  Play around with the code cell below by changing the `batch_id` and `sample_id`. The `batch_id` is the id for a batch (1-5). The `sample_id` is the id for a image and label pair in the batch.\n",
    "\n",
    "Ask yourself \"What are all possible labels?\", \"What is the range of values for the image data?\", \"Are the labels in order or random?\".  Answers to questions like these will help you preprocess the data and end up with better predictions."
   ]
  },
  {
   "cell_type": "code",
   "execution_count": 5,
   "metadata": {
    "collapsed": false,
    "deletable": true,
    "editable": true
   },
   "outputs": [
    {
     "name": "stdout",
     "output_type": "stream",
     "text": [
      "\n",
      "Stats of batch 2:\n",
      "Samples: 10000\n",
      "Label Counts: {0: 984, 1: 1007, 2: 1010, 3: 995, 4: 1010, 5: 988, 6: 1008, 7: 1026, 8: 987, 9: 985}\n",
      "First 20 Labels: [1, 6, 6, 8, 8, 3, 4, 6, 0, 6, 0, 3, 6, 6, 5, 4, 8, 3, 2, 6]\n",
      "\n",
      "Example of Image 500:\n",
      "Image - Min Value: 13 Max Value: 218\n",
      "Image - Shape: (32, 32, 3)\n",
      "Label - Label Id: 4 Name: deer\n"
     ]
    },
    {
     "data": {
      "image/png": "[encoded data removed]",
      "text/plain": [
       "<matplotlib.figure.Figure at 0x7fa3ee92e0f0>"
      ]
     },
     "metadata": {
      "image/png": {
       "height": 250,
       "width": 253
      }
     },
     "output_type": "display_data"
    }
   ],
   "source": [
    "%matplotlib inline\n",
    "%config InlineBackend.figure_format = 'retina'\n",
    "\n",
    "import helper\n",
    "import numpy as np\n",
    "\n",
    "# Explore the dataset\n",
    "batch_id = 2\n",
    "sample_id = 500\n",
    "helper.display_stats(cifar10_dataset_folder_path, batch_id, sample_id)"
   ]
  },
  {
   "cell_type": "markdown",
   "metadata": {
    "deletable": true,
    "editable": true
   },
   "source": [
    "## Implement Preprocess Functions\n",
    "### Normalize\n",
    "In the cell below, implement the `normalize` function to take in image data, `x`, and return it as a normalized Numpy array. The values should be in the range of 0 to 1, inclusive.  The return object should be the same shape as `x`."
   ]
  },
  {
   "cell_type": "code",
   "execution_count": 9,
   "metadata": {
    "collapsed": false,
    "deletable": true,
    "editable": true
   },
   "outputs": [
    {
     "name": "stdout",
     "output_type": "stream",
     "text": [
      "Tests Passed\n"
     ]
    }
   ],
   "source": [
    "def normalize(x):\n",
    "    \"\"\"\n",
    "    Normalize a list of sample image data in the range of 0 to 1\n",
    "    : x: List of image data.  The image shape is (32, 32, 3)\n",
    "    : return: Numpy array of normalize data\n",
    "    \"\"\"\n",
    "    # TODO: Implement Function\n",
    "    \n",
    "    return (x - x.min(0)) / x.ptp(0)\n",
    "\n",
    "\n",
    "\"\"\"\n",
    "DON'T MODIFY ANYTHING IN THIS CELL THAT IS BELOW THIS LINE\n",
    "\"\"\"\n",
    "tests.test_normalize(normalize)"
   ]
  },
  {
   "cell_type": "markdown",
   "metadata": {
    "deletable": true,
    "editable": true
   },
   "source": [
    "### One-hot encode\n",
    "Just like the previous code cell, you'll be implementing a function for preprocessing.  This time, you'll implement the `one_hot_encode` function. The input, `x`, are a list of labels.  Implement the function to return the list of labels as One-Hot encoded Numpy array.  The possible values for labels are 0 to 9. The one-hot encoding function should return the same encoding for each value between each call to `one_hot_encode`.  Make sure to save the map of encodings outside the function.\n",
    "\n",
    "Hint: Don't reinvent the wheel."
   ]
  },
  {
   "cell_type": "code",
   "execution_count": 7,
   "metadata": {
    "collapsed": false,
    "deletable": true,
    "editable": true
   },
   "outputs": [
    {
     "name": "stdout",
     "output_type": "stream",
     "text": [
      "Tests Passed\n"
     ]
    }
   ],
   "source": [
    "def one_hot_encode(x):\n",
    "    \"\"\"\n",
    "    One hot encode a list of sample labels. Return a one-hot encoded vector for each label.\n",
    "    : x: List of sample Labels\n",
    "    : return: Numpy array of one-hot encoded labels\n",
    "    \"\"\"\n",
    "    # TODO: Implement Function\n",
    "    one_hot = np.eye(10)[x]\n",
    "    return one_hot\n",
    "\n",
    "\n",
    "\n",
    "\"\"\"\n",
    "DON'T MODIFY ANYTHING IN THIS CELL THAT IS BELOW THIS LINE\n",
    "\"\"\"\n",
    "tests.test_one_hot_encode(one_hot_encode)"
   ]
  },
  {
   "cell_type": "markdown",
   "metadata": {
    "deletable": true,
    "editable": true
   },
   "source": [
    "### Randomize Data\n",
    "As you saw from exploring the data above, the order of the samples are randomized.  It doesn't hurt to randomize it again, but you don't need to for this dataset."
   ]
  },
  {
   "cell_type": "markdown",
   "metadata": {
    "deletable": true,
    "editable": true
   },
   "source": [
    "## Preprocess all the data and save it\n",
    "Running the code cell below will preprocess all the CIFAR-10 data and save it to file. The code below also uses 10% of the training data for validation."
   ]
  },
  {
   "cell_type": "code",
   "execution_count": 10,
   "metadata": {
    "collapsed": false,
    "deletable": true,
    "editable": true
   },
   "outputs": [],
   "source": [
    "\"\"\"\n",
    "DON'T MODIFY ANYTHING IN THIS CELL\n",
    "\"\"\"\n",
    "# Preprocess Training, Validation, and Testing Data\n",
    "helper.preprocess_and_save_data(cifar10_dataset_folder_path, normalize, one_hot_encode)"
   ]
  },
  {
   "cell_type": "markdown",
   "metadata": {
    "deletable": true,
    "editable": true
   },
   "source": [
    "# Check Point\n",
    "This is your first checkpoint.  If you ever decide to come back to this notebook or have to restart the notebook, you can start from here.  The preprocessed data has been saved to disk."
   ]
  },
  {
   "cell_type": "code",
   "execution_count": 2,
   "metadata": {
    "collapsed": true,
    "deletable": true,
    "editable": true
   },
   "outputs": [],
   "source": [
    "\"\"\"\n",
    "DON'T MODIFY ANYTHING IN THIS CELL\n",
    "\"\"\"\n",
    "import pickle\n",
    "import problem_unittests as tests\n",
    "import helper\n",
    "\n",
    "# Load the Preprocessed Validation data\n",
    "valid_features, valid_labels = pickle.load(open('preprocess_validation.p', mode='rb'))"
   ]
  },
  {
   "cell_type": "markdown",
   "metadata": {
    "deletable": true,
    "editable": true
   },
   "source": [
    "## Build the network\n",
    "For the neural network, you'll build each layer into a function.  Most of the code you've seen has been outside of functions. To test your code more thoroughly, we require that you put each layer in a function.  This allows us to give you better feedback and test for simple mistakes using our unittests before you submit your project.\n",
    "\n",
    ">**Note:** If you're finding it hard to dedicate enough time for this course each week, we've provided a small shortcut to this part of the project. In the next couple of problems, you'll have the option to use classes from the [TensorFlow Layers](https://www.tensorflow.org/api_docs/python/tf/layers) or [TensorFlow Layers (contrib)](https://www.tensorflow.org/api_guides/python/contrib.layers) packages to build each layer, except the layers you build in the \"Convolutional and Max Pooling Layer\" section.  TF Layers is similar to Keras's and TFLearn's abstraction to layers, so it's easy to pickup.\n",
    "\n",
    ">However, if you would like to get the most out of this course, try to solve all the problems _without_ using anything from the TF Layers packages. You **can** still use classes from other packages that happen to have the same name as ones you find in TF Layers! For example, instead of using the TF Layers version of the `conv2d` class, [tf.layers.conv2d](https://www.tensorflow.org/api_docs/python/tf/layers/conv2d), you would want to use the TF Neural Network version of `conv2d`, [tf.nn.conv2d](https://www.tensorflow.org/api_docs/python/tf/nn/conv2d). \n",
    "\n",
    "Let's begin!\n",
    "\n",
    "### Input\n",
    "The neural network needs to read the image data, one-hot encoded labels, and dropout keep probability. Implement the following functions\n",
    "* Implement `neural_net_image_input`\n",
    " * Return a [TF Placeholder](https://www.tensorflow.org/api_docs/python/tf/placeholder)\n",
    " * Set the shape using `image_shape` with batch size set to `None`.\n",
    " * Name the TensorFlow placeholder \"x\" using the TensorFlow `name` parameter in the [TF Placeholder](https://www.tensorflow.org/api_docs/python/tf/placeholder).\n",
    "* Implement `neural_net_label_input`\n",
    " * Return a [TF Placeholder](https://www.tensorflow.org/api_docs/python/tf/placeholder)\n",
    " * Set the shape using `n_classes` with batch size set to `None`.\n",
    " * Name the TensorFlow placeholder \"y\" using the TensorFlow `name` parameter in the [TF Placeholder](https://www.tensorflow.org/api_docs/python/tf/placeholder).\n",
    "* Implement `neural_net_keep_prob_input`\n",
    " * Return a [TF Placeholder](https://www.tensorflow.org/api_docs/python/tf/placeholder) for dropout keep probability.\n",
    " * Name the TensorFlow placeholder \"keep_prob\" using the TensorFlow `name` parameter in the [TF Placeholder](https://www.tensorflow.org/api_docs/python/tf/placeholder).\n",
    "\n",
    "These names will be used at the end of the project to load your saved model.\n",
    "\n",
    "Note: `None` for shapes in TensorFlow allow for a dynamic size."
   ]
  },
  {
   "cell_type": "code",
   "execution_count": 4,
   "metadata": {
    "collapsed": false,
    "deletable": true,
    "editable": true
   },
   "outputs": [
    {
     "name": "stdout",
     "output_type": "stream",
     "text": [
      "Image Input Tests Passed.\n",
      "Label Input Tests Passed.\n",
      "Keep Prob Tests Passed.\n"
     ]
    }
   ],
   "source": [
    "import tensorflow as tf\n",
    "\n",
    "def neural_net_image_input(image_shape):\n",
    "    \"\"\"\n",
    "    Return a Tensor for a batch of image input\n",
    "    : image_shape: Shape of the images\n",
    "    : return: Tensor for image input.\n",
    "    \"\"\"\n",
    "    # TODO: Implement Function\n",
    "    x = tf.placeholder(tf.float32,(None, image_shape[0], image_shape[1], image_shape[2]), name='x' )\n",
    "    return x\n",
    "\n",
    "\n",
    "def neural_net_label_input(n_classes):\n",
    "    \"\"\"\n",
    "    Return a Tensor for a batch of label input\n",
    "    : n_classes: Number of classes\n",
    "    : return: Tensor for label input.\n",
    "    \"\"\"\n",
    "    # TODO: Implement Function\n",
    "    y = tf.placeholder(tf.float32,(None, n_classes), name='y' )\n",
    "    return y\n",
    "\n",
    "\n",
    "def neural_net_keep_prob_input():\n",
    "    \"\"\"\n",
    "    Return a Tensor for keep probability\n",
    "    : return: Tensor for keep probability.\n",
    "    \"\"\"\n",
    "    # TODO: Implement Function\n",
    "    keep_prob = tf.placeholder(tf.float32, name='keep_prob' )\n",
    "    return keep_prob\n",
    "\n",
    "\n",
    "\"\"\"\n",
    "DON'T MODIFY ANYTHING IN THIS CELL THAT IS BELOW THIS LINE\n",
    "\"\"\"\n",
    "tf.reset_default_graph()\n",
    "tests.test_nn_image_inputs(neural_net_image_input)\n",
    "tests.test_nn_label_inputs(neural_net_label_input)\n",
    "tests.test_nn_keep_prob_inputs(neural_net_keep_prob_input)"
   ]
  },
  {
   "cell_type": "markdown",
   "metadata": {
    "deletable": true,
    "editable": true
   },
   "source": [
    "### Convolution and Max Pooling Layer\n",
    "Convolution layers have a lot of success with images. For this code cell, you should implement the function `conv2d_maxpool` to apply convolution then max pooling:\n",
    "* Create the weight and bias using `conv_ksize`, `conv_num_outputs` and the shape of `x_tensor`.\n",
    "* Apply a convolution to `x_tensor` using weight and `conv_strides`.\n",
    " * We recommend you use same padding, but you're welcome to use any padding.\n",
    "* Add bias\n",
    "* Add a nonlinear activation to the convolution.\n",
    "* Apply Max Pooling using `pool_ksize` and `pool_strides`.\n",
    " * We recommend you use same padding, but you're welcome to use any padding.\n",
    "\n",
    "**Note:** You **can't** use [TensorFlow Layers](https://www.tensorflow.org/api_docs/python/tf/layers) or [TensorFlow Layers (contrib)](https://www.tensorflow.org/api_guides/python/contrib.layers) for **this** layer, but you can still use TensorFlow's [Neural Network](https://www.tensorflow.org/api_docs/python/tf/nn) package. You may still use the shortcut option for all the **other** layers."
   ]
  },
  {
   "cell_type": "code",
   "execution_count": 5,
   "metadata": {
    "collapsed": false,
    "deletable": true,
    "editable": true
   },
   "outputs": [
    {
     "name": "stdout",
     "output_type": "stream",
     "text": [
      "Tests Passed\n"
     ]
    }
   ],
   "source": [
    "def conv2d_maxpool(x_tensor, conv_num_outputs, conv_ksize, conv_strides, pool_ksize, pool_strides):\n",
    "    \"\"\"\n",
    "    Apply convolution then max pooling to x_tensor\n",
    "    :param x_tensor: TensorFlow Tensor\n",
    "    :param conv_num_outputs: Number of outputs for the convolutional layer\n",
    "    :param conv_ksize: kernal size 2-D Tuple for the convolutional layer\n",
    "    :param conv_strides: Stride 2-D Tuple for convolution\n",
    "    :param pool_ksize: kernal size 2-D Tuple for pool\n",
    "    :param pool_strides: Stride 2-D Tuple for pool\n",
    "    : return: A tensor that represents convolution and max pooling of x_tensor\n",
    "    \"\"\"\n",
    "    # TODO: Implement Function\n",
    "    in_depth = x_tensor.get_shape().as_list()[-1]\n",
    "    weight = tf.Variable(tf.random_normal([*conv_ksize, in_depth, conv_num_outputs], stddev=0.1))\n",
    "    bias = tf.Variable(tf.zeros(conv_num_outputs))\n",
    "    conv_strides = [1, *conv_strides, 1]\n",
    "    x = tf.nn.conv2d(x_tensor, weight, strides=conv_strides, padding='SAME')\n",
    "    \n",
    "    x = tf.nn.bias_add(x, bias)\n",
    "    x = tf.nn.relu(x)\n",
    "    \n",
    "    pool_ksize = [1, *pool_ksize, 1]\n",
    "    pool_strides = [1, *pool_strides, 1]\n",
    "    x = tf.nn.max_pool(x, pool_ksize, pool_strides, padding='SAME')\n",
    "    return x\n",
    "    \n",
    "\n",
    "\n",
    "\"\"\"\n",
    "DON'T MODIFY ANYTHING IN THIS CELL THAT IS BELOW THIS LINE\n",
    "\"\"\"\n",
    "tests.test_con_pool(conv2d_maxpool)"
   ]
  },
  {
   "cell_type": "markdown",
   "metadata": {
    "deletable": true,
    "editable": true
   },
   "source": [
    "### Flatten Layer\n",
    "Implement the `flatten` function to change the dimension of `x_tensor` from a 4-D tensor to a 2-D tensor.  The output should be the shape (*Batch Size*, *Flattened Image Size*). Shortcut option: you can use classes from the [TensorFlow Layers](https://www.tensorflow.org/api_docs/python/tf/layers) or [TensorFlow Layers (contrib)](https://www.tensorflow.org/api_guides/python/contrib.layers) packages for this layer. For more of a challenge, only use other TensorFlow packages."
   ]
  },
  {
   "cell_type": "code",
   "execution_count": 5,
   "metadata": {
    "collapsed": false,
    "deletable": true,
    "editable": true
   },
   "outputs": [
    {
     "name": "stdout",
     "output_type": "stream",
     "text": [
      "Tests Passed\n"
     ]
    }
   ],
   "source": [
    "def flatten(x_tensor):\n",
    "    \"\"\"\n",
    "    Flatten x_tensor to (Batch Size, Flattened Image Size)\n",
    "    : x_tensor: A tensor of size (Batch Size, ...), where ... are the image dimensions.\n",
    "    : return: A tensor of size (Batch Size, Flattened Image Size).\n",
    "    \"\"\"\n",
    "    # TODO: Implement Function\n",
    "    batch_size, *img_size = x_tensor.get_shape().as_list()\n",
    "    img_size = img_size[0] * img_size[1] * img_size[2]\n",
    "    return tf.reshape(x_tensor, [-1, img_size])\n",
    "\n",
    "\n",
    "\"\"\"\n",
    "DON'T MODIFY ANYTHING IN THIS CELL THAT IS BELOW THIS LINE\n",
    "\"\"\"\n",
    "tests.test_flatten(flatten)"
   ]
  },
  {
   "cell_type": "markdown",
   "metadata": {
    "deletable": true,
    "editable": true
   },
   "source": [
    "### Fully-Connected Layer\n",
    "Implement the `fully_conn` function to apply a fully connected layer to `x_tensor` with the shape (*Batch Size*, *num_outputs*). Shortcut option: you can use classes from the [TensorFlow Layers](https://www.tensorflow.org/api_docs/python/tf/layers) or [TensorFlow Layers (contrib)](https://www.tensorflow.org/api_guides/python/contrib.layers) packages for this layer. For more of a challenge, only use other TensorFlow packages."
   ]
  },
  {
   "cell_type": "code",
   "execution_count": 27,
   "metadata": {
    "collapsed": false,
    "deletable": true,
    "editable": true
   },
   "outputs": [
    {
     "name": "stdout",
     "output_type": "stream",
     "text": [
      "Tests Passed\n"
     ]
    }
   ],
   "source": [
    "def fully_conn(x_tensor, num_outputs):\n",
    "    \"\"\"\n",
    "    Apply a fully connected layer to x_tensor using weight and bias\n",
    "    : x_tensor: A 2-D tensor where the first dimension is batch size.\n",
    "    : num_outputs: The number of output that the new tensor should be.\n",
    "    : return: A 2-D tensor where the second dimension is num_outputs.\n",
    "    \"\"\"\n",
    "    # TODO: Implement Function\n",
    "    w_shape = x_tensor.get_shape().as_list()\n",
    "    weight = tf.Variable(tf.random_normal([w_shape[-1],num_outputs], stddev=0.1))\n",
    "    bias = tf.Variable(tf.zeros(num_outputs))\n",
    "    x = tf.add(tf.matmul(x_tensor, weight), bias)\n",
    "    x = tf.nn.relu(x)\n",
    "    return x\n",
    "\n",
    "\n",
    "\"\"\"\n",
    "DON'T MODIFY ANYTHING IN THIS CELL THAT IS BELOW THIS LINE\n",
    "\"\"\"\n",
    "tests.test_fully_conn(fully_conn)"
   ]
  },
  {
   "cell_type": "markdown",
   "metadata": {
    "deletable": true,
    "editable": true
   },
   "source": [
    "### Output Layer\n",
    "Implement the `output` function to apply a fully connected layer to `x_tensor` with the shape (*Batch Size*, *num_outputs*). Shortcut option: you can use classes from the [TensorFlow Layers](https://www.tensorflow.org/api_docs/python/tf/layers) or [TensorFlow Layers (contrib)](https://www.tensorflow.org/api_guides/python/contrib.layers) packages for this layer. For more of a challenge, only use other TensorFlow packages.\n",
    "\n",
    "**Note:** Activation, softmax, or cross entropy should **not** be applied to this."
   ]
  },
  {
   "cell_type": "code",
   "execution_count": 31,
   "metadata": {
    "collapsed": false,
    "deletable": true,
    "editable": true
   },
   "outputs": [
    {
     "name": "stdout",
     "output_type": "stream",
     "text": [
      "Tests Passed\n"
     ]
    }
   ],
   "source": [
    "def output(x_tensor, num_outputs):\n",
    "    \"\"\"\n",
    "    Apply a output layer to x_tensor using weight and bias\n",
    "    : x_tensor: A 2-D tensor where the first dimension is batch size.\n",
    "    : num_outputs: The number of output that the new tensor should be.\n",
    "    : return: A 2-D tensor where the second dimension is num_outputs.\n",
    "    \"\"\"\n",
    "    # TODO: Implement Function\n",
    "    w_shape = x_tensor.get_shape().as_list()\n",
    "    weight = tf.Variable(tf.random_normal([w_shape[-1],num_outputs], stddev=0.1))\n",
    "    bias = tf.Variable(tf.zeros(num_outputs))\n",
    "    x = tf.add(tf.matmul(x_tensor, weight), bias)\n",
    "    return x\n",
    "\n",
    "\n",
    "\"\"\"\n",
    "DON'T MODIFY ANYTHING IN THIS CELL THAT IS BELOW THIS LINE\n",
    "\"\"\"\n",
    "tests.test_output(output)"
   ]
  },
  {
   "cell_type": "markdown",
   "metadata": {
    "deletable": true,
    "editable": true
   },
   "source": [
    "### Create Convolutional Model\n",
    "Implement the function `conv_net` to create a convolutional neural network model. The function takes in a batch of images, `x`, and outputs logits.  Use the layers you created above to create this model:\n",
    "\n",
    "* Apply 1, 2, or 3 Convolution and Max Pool layers\n",
    "* Apply a Flatten Layer\n",
    "* Apply 1, 2, or 3 Fully Connected Layers\n",
    "* Apply an Output Layer\n",
    "* Return the output\n",
    "* Apply [TensorFlow's Dropout](https://www.tensorflow.org/api_docs/python/tf/nn/dropout) to one or more layers in the model using `keep_prob`. "
   ]
  },
  {
   "cell_type": "code",
   "execution_count": 32,
   "metadata": {
    "collapsed": false,
    "deletable": true,
    "editable": true
   },
   "outputs": [
    {
     "name": "stdout",
     "output_type": "stream",
     "text": [
      "Neural Network Built!\n"
     ]
    }
   ],
   "source": [
    "def conv_net(x, keep_prob):\n",
    "    \"\"\"\n",
    "    Create a convolutional neural network model\n",
    "    : x: Placeholder tensor that holds image data.\n",
    "    : keep_prob: Placeholder tensor that hold dropout keep probability.\n",
    "    : return: Tensor that represents logits\n",
    "    \"\"\"\n",
    "    # TODO: Apply 1, 2, or 3 Convolution and Max Pool layers\n",
    "    #    Play around with different number of outputs, kernel size and stride\n",
    "    # Function Definition from Above:\n",
    "    #    conv2d_maxpool(x_tensor, conv_num_outputs, conv_ksize, conv_strides, pool_ksize, pool_strides)\n",
    "    \n",
    "    x = conv2d_maxpool(x, 32, (3, 3), (1, 1), (2, 2), (2, 2))\n",
    "    x = conv2d_maxpool(x, 32, (3, 3), (2, 2), (2, 2), (2, 2))\n",
    "    \n",
    "    # TODO: Apply a Flatten Layer\n",
    "    # Function Definition from Above:\n",
    "    #   flatten(x_tensor)\n",
    "    x = flatten(x)\n",
    "\n",
    "    # TODO: Apply 1, 2, or 3 Fully Connected Layers\n",
    "    #    Play around with different number of outputs\n",
    "    # Function Definition from Above:\n",
    "    #   fully_conn(x_tensor, num_outputs)\n",
    "    x = fully_conn(x, 512)\n",
    "    x = tf.nn.dropout(x, keep_prob)\n",
    "    x = fully_conn(x, 128)\n",
    "    x = tf.nn.dropout(x, keep_prob)\n",
    "    \n",
    "    # TODO: Apply an Output Layer\n",
    "    #    Set this to the number of classes\n",
    "    # Function Definition from Above:\n",
    "    #   output(x_tensor, num_outputs)\n",
    "    output_1 = output(x, 10)\n",
    "    \n",
    "    # TODO: return output\n",
    "    return output_1\n",
    "\n",
    "\n",
    "\"\"\"\n",
    "DON'T MODIFY ANYTHING IN THIS CELL THAT IS BELOW THIS LINE\n",
    "\"\"\"\n",
    "\n",
    "##############################\n",
    "## Build the Neural Network ##\n",
    "##############################\n",
    "\n",
    "# Remove previous weights, bias, inputs, etc..\n",
    "tf.reset_default_graph()\n",
    "\n",
    "# Inputs\n",
    "x = neural_net_image_input((32, 32, 3))\n",
    "y = neural_net_label_input(10)\n",
    "keep_prob = neural_net_keep_prob_input()\n",
    "\n",
    "# Model\n",
    "logits = conv_net(x, keep_prob)\n",
    "\n",
    "# Name logits Tensor, so that is can be loaded from disk after training\n",
    "logits = tf.identity(logits, name='logits')\n",
    "\n",
    "# Loss and Optimizer\n",
    "cost = tf.reduce_mean(tf.nn.softmax_cross_entropy_with_logits(logits=logits, labels=y))\n",
    "optimizer = tf.train.AdamOptimizer().minimize(cost)\n",
    "\n",
    "# Accuracy\n",
    "correct_pred = tf.equal(tf.argmax(logits, 1), tf.argmax(y, 1))\n",
    "accuracy = tf.reduce_mean(tf.cast(correct_pred, tf.float32), name='accuracy')\n",
    "\n",
    "tests.test_conv_net(conv_net)"
   ]
  },
  {
   "cell_type": "markdown",
   "metadata": {
    "deletable": true,
    "editable": true
   },
   "source": [
    "## Train the Neural Network\n",
    "### Single Optimization\n",
    "Implement the function `train_neural_network` to do a single optimization.  The optimization should use `optimizer` to optimize in `session` with a `feed_dict` of the following:\n",
    "* `x` for image input\n",
    "* `y` for labels\n",
    "* `keep_prob` for keep probability for dropout\n",
    "\n",
    "This function will be called for each batch, so `tf.global_variables_initializer()` has already been called.\n",
    "\n",
    "Note: Nothing needs to be returned. This function is only optimizing the neural network."
   ]
  },
  {
   "cell_type": "code",
   "execution_count": 33,
   "metadata": {
    "collapsed": false,
    "deletable": true,
    "editable": true
   },
   "outputs": [
    {
     "name": "stdout",
     "output_type": "stream",
     "text": [
      "Tests Passed\n"
     ]
    }
   ],
   "source": [
    "def train_neural_network(session, optimizer, keep_probability, feature_batch, label_batch):\n",
    "    \"\"\"\n",
    "    Optimize the session on a batch of images and labels\n",
    "    : session: Current TensorFlow session\n",
    "    : optimizer: TensorFlow optimizer function\n",
    "    : keep_probability: keep probability\n",
    "    : feature_batch: Batch of Numpy image data\n",
    "    : label_batch: Batch of Numpy label data\n",
    "    \"\"\"\n",
    "    # TODO: Implement Function\n",
    "    session.run(optimizer, feed_dict={\n",
    "        x: feature_batch,\n",
    "        y: label_batch,\n",
    "        keep_prob: keep_probability\n",
    "    })\n",
    "    pass\n",
    "\n",
    "\n",
    "\"\"\"\n",
    "DON'T MODIFY ANYTHING IN THIS CELL THAT IS BELOW THIS LINE\n",
    "\"\"\"\n",
    "tests.test_train_nn(train_neural_network)"
   ]
  },
  {
   "cell_type": "markdown",
   "metadata": {
    "deletable": true,
    "editable": true
   },
   "source": [
    "### Show Stats\n",
    "Implement the function `print_stats` to print loss and validation accuracy.  Use the global variables `valid_features` and `valid_labels` to calculate validation accuracy.  Use a keep probability of `1.0` to calculate the loss and validation accuracy."
   ]
  },
  {
   "cell_type": "code",
   "execution_count": 34,
   "metadata": {
    "collapsed": false,
    "deletable": true,
    "editable": true
   },
   "outputs": [],
   "source": [
    "def print_stats(session, feature_batch, label_batch, cost, accuracy):\n",
    "    \"\"\"\n",
    "    Print information about loss and validation accuracy\n",
    "    : session: Current TensorFlow session\n",
    "    : feature_batch: Batch of Numpy image data\n",
    "    : label_batch: Batch of Numpy label data\n",
    "    : cost: TensorFlow cost function\n",
    "    : accuracy: TensorFlow accuracy function\n",
    "    \"\"\"\n",
    "    # TODO: Implement Function\n",
    "    loss = session.run(cost, feed_dict={\n",
    "        x: feature_batch,\n",
    "        y: label_batch,\n",
    "        keep_prob: 1.\n",
    "    })\n",
    "    \n",
    "    valid_accuracy = session.run(accuracy, feed_dict={\n",
    "        x: valid_features,\n",
    "        y: valid_labels,\n",
    "        keep_prob: 1.\n",
    "    })\n",
    "    print('Loss: {:>10.4f} Validation Accuracy: {:.6f}'.format(loss, valid_accuracy))\n",
    "    "
   ]
  },
  {
   "cell_type": "markdown",
   "metadata": {
    "deletable": true,
    "editable": true
   },
   "source": [
    "### Hyperparameters\n",
    "Tune the following parameters:\n",
    "* Set `epochs` to the number of iterations until the network stops learning or start overfitting\n",
    "* Set `batch_size` to the highest number that your machine has memory for.  Most people set them to common sizes of memory:\n",
    " * 64\n",
    " * 128\n",
    " * 256\n",
    " * ...\n",
    "* Set `keep_probability` to the probability of keeping a node using dropout"
   ]
  },
  {
   "cell_type": "code",
   "execution_count": 35,
   "metadata": {
    "collapsed": true,
    "deletable": true,
    "editable": true
   },
   "outputs": [],
   "source": [
    "# TODO: Tune Parameters\n",
    "epochs = 60\n",
    "batch_size = 128\n",
    "keep_probability = 0.4"
   ]
  },
  {
   "cell_type": "markdown",
   "metadata": {
    "deletable": true,
    "editable": true
   },
   "source": [
    "### Train on a Single CIFAR-10 Batch\n",
    "Instead of training the neural network on all the CIFAR-10 batches of data, let's use a single batch. This should save time while you iterate on the model to get a better accuracy.  Once the final validation accuracy is 50% or greater, run the model on all the data in the next section."
   ]
  },
  {
   "cell_type": "code",
   "execution_count": 36,
   "metadata": {
    "collapsed": false,
    "deletable": true,
    "editable": true
   },
   "outputs": [
    {
     "name": "stdout",
     "output_type": "stream",
     "text": [
      "Checking the Training on a Single Batch...\n",
      "Epoch  1, CIFAR-10 Batch 1:  Loss:     2.1885 Validation Accuracy: 0.270600\n",
      "Epoch  2, CIFAR-10 Batch 1:  Loss:     2.0329 Validation Accuracy: 0.347600\n",
      "Epoch  3, CIFAR-10 Batch 1:  Loss:     1.9030 Validation Accuracy: 0.391400\n",
      "Epoch  4, CIFAR-10 Batch 1:  Loss:     1.8432 Validation Accuracy: 0.420800\n",
      "Epoch  5, CIFAR-10 Batch 1:  Loss:     1.6787 Validation Accuracy: 0.433200\n",
      "Epoch  6, CIFAR-10 Batch 1:  Loss:     1.5290 Validation Accuracy: 0.458400\n",
      "Epoch  7, CIFAR-10 Batch 1:  Loss:     1.4405 Validation Accuracy: 0.473200\n",
      "Epoch  8, CIFAR-10 Batch 1:  Loss:     1.3559 Validation Accuracy: 0.484000\n",
      "Epoch  9, CIFAR-10 Batch 1:  Loss:     1.3213 Validation Accuracy: 0.485400\n",
      "Epoch 10, CIFAR-10 Batch 1:  Loss:     1.1717 Validation Accuracy: 0.500600\n",
      "Epoch 11, CIFAR-10 Batch 1:  Loss:     1.1101 Validation Accuracy: 0.529000\n",
      "Epoch 12, CIFAR-10 Batch 1:  Loss:     1.0328 Validation Accuracy: 0.534000\n",
      "Epoch 13, CIFAR-10 Batch 1:  Loss:     0.9654 Validation Accuracy: 0.526800\n",
      "Epoch 14, CIFAR-10 Batch 1:  Loss:     0.9151 Validation Accuracy: 0.543800\n",
      "Epoch 15, CIFAR-10 Batch 1:  Loss:     0.8089 Validation Accuracy: 0.556000\n",
      "Epoch 16, CIFAR-10 Batch 1:  Loss:     0.8285 Validation Accuracy: 0.555000\n",
      "Epoch 17, CIFAR-10 Batch 1:  Loss:     0.7436 Validation Accuracy: 0.552000\n",
      "Epoch 18, CIFAR-10 Batch 1:  Loss:     0.7559 Validation Accuracy: 0.569600\n",
      "Epoch 19, CIFAR-10 Batch 1:  Loss:     0.6677 Validation Accuracy: 0.574000\n",
      "Epoch 20, CIFAR-10 Batch 1:  Loss:     0.6382 Validation Accuracy: 0.558800\n",
      "Epoch 21, CIFAR-10 Batch 1:  Loss:     0.6366 Validation Accuracy: 0.571200\n",
      "Epoch 22, CIFAR-10 Batch 1:  Loss:     0.5600 Validation Accuracy: 0.586800\n",
      "Epoch 23, CIFAR-10 Batch 1:  Loss:     0.5517 Validation Accuracy: 0.584400\n",
      "Epoch 24, CIFAR-10 Batch 1:  Loss:     0.5472 Validation Accuracy: 0.571000\n",
      "Epoch 25, CIFAR-10 Batch 1:  Loss:     0.5051 Validation Accuracy: 0.593600\n",
      "Epoch 26, CIFAR-10 Batch 1:  Loss:     0.4990 Validation Accuracy: 0.587000\n",
      "Epoch 27, CIFAR-10 Batch 1:  Loss:     0.4595 Validation Accuracy: 0.589200\n",
      "Epoch 28, CIFAR-10 Batch 1:  Loss:     0.4094 Validation Accuracy: 0.595200\n",
      "Epoch 29, CIFAR-10 Batch 1:  Loss:     0.3737 Validation Accuracy: 0.580000\n",
      "Epoch 30, CIFAR-10 Batch 1:  Loss:     0.3479 Validation Accuracy: 0.595000\n",
      "Epoch 31, CIFAR-10 Batch 1:  Loss:     0.3152 Validation Accuracy: 0.578000\n",
      "Epoch 32, CIFAR-10 Batch 1:  Loss:     0.2973 Validation Accuracy: 0.578800\n",
      "Epoch 33, CIFAR-10 Batch 1:  Loss:     0.2616 Validation Accuracy: 0.573400\n",
      "Epoch 34, CIFAR-10 Batch 1:  Loss:     0.2681 Validation Accuracy: 0.596800\n",
      "Epoch 35, CIFAR-10 Batch 1:  Loss:     0.2479 Validation Accuracy: 0.597800\n",
      "Epoch 36, CIFAR-10 Batch 1:  Loss:     0.2288 Validation Accuracy: 0.591200\n",
      "Epoch 37, CIFAR-10 Batch 1:  Loss:     0.2077 Validation Accuracy: 0.584000\n",
      "Epoch 38, CIFAR-10 Batch 1:  Loss:     0.1912 Validation Accuracy: 0.600200\n",
      "Epoch 39, CIFAR-10 Batch 1:  Loss:     0.2089 Validation Accuracy: 0.591800\n",
      "Epoch 40, CIFAR-10 Batch 1:  Loss:     0.1909 Validation Accuracy: 0.589800\n",
      "Epoch 41, CIFAR-10 Batch 1:  Loss:     0.1834 Validation Accuracy: 0.581200\n",
      "Epoch 42, CIFAR-10 Batch 1:  Loss:     0.1587 Validation Accuracy: 0.591400\n",
      "Epoch 43, CIFAR-10 Batch 1:  Loss:     0.1544 Validation Accuracy: 0.593000\n",
      "Epoch 44, CIFAR-10 Batch 1:  Loss:     0.1326 Validation Accuracy: 0.601800\n",
      "Epoch 45, CIFAR-10 Batch 1:  Loss:     0.1391 Validation Accuracy: 0.589400\n",
      "Epoch 46, CIFAR-10 Batch 1:  Loss:     0.1136 Validation Accuracy: 0.600200\n",
      "Epoch 47, CIFAR-10 Batch 1:  Loss:     0.1113 Validation Accuracy: 0.596600\n",
      "Epoch 48, CIFAR-10 Batch 1:  Loss:     0.0985 Validation Accuracy: 0.594000\n",
      "Epoch 49, CIFAR-10 Batch 1:  Loss:     0.1178 Validation Accuracy: 0.592200\n",
      "Epoch 50, CIFAR-10 Batch 1:  Loss:     0.1098 Validation Accuracy: 0.602600\n",
      "Epoch 51, CIFAR-10 Batch 1:  Loss:     0.0828 Validation Accuracy: 0.603800\n",
      "Epoch 52, CIFAR-10 Batch 1:  Loss:     0.0805 Validation Accuracy: 0.601400\n",
      "Epoch 53, CIFAR-10 Batch 1:  Loss:     0.1008 Validation Accuracy: 0.591800\n",
      "Epoch 54, CIFAR-10 Batch 1:  Loss:     0.0866 Validation Accuracy: 0.600200\n",
      "Epoch 55, CIFAR-10 Batch 1:  Loss:     0.0731 Validation Accuracy: 0.597000\n",
      "Epoch 56, CIFAR-10 Batch 1:  Loss:     0.0706 Validation Accuracy: 0.590200\n",
      "Epoch 57, CIFAR-10 Batch 1:  Loss:     0.0772 Validation Accuracy: 0.593200\n",
      "Epoch 58, CIFAR-10 Batch 1:  Loss:     0.0808 Validation Accuracy: 0.586400\n",
      "Epoch 59, CIFAR-10 Batch 1:  Loss:     0.0683 Validation Accuracy: 0.593600\n",
      "Epoch 60, CIFAR-10 Batch 1:  Loss:     0.0689 Validation Accuracy: 0.591400\n"
     ]
    }
   ],
   "source": [
    "\"\"\"\n",
    "DON'T MODIFY ANYTHING IN THIS CELL\n",
    "\"\"\"\n",
    "print('Checking the Training on a Single Batch...')\n",
    "with tf.Session() as sess:\n",
    "    # Initializing the variables\n",
    "    sess.run(tf.global_variables_initializer())\n",
    "    \n",
    "    # Training cycle\n",
    "    for epoch in range(epochs):\n",
    "        batch_i = 1\n",
    "        for batch_features, batch_labels in helper.load_preprocess_training_batch(batch_i, batch_size):\n",
    "            train_neural_network(sess, optimizer, keep_probability, batch_features, batch_labels)\n",
    "        print('Epoch {:>2}, CIFAR-10 Batch {}:  '.format(epoch + 1, batch_i), end='')\n",
    "        print_stats(sess, batch_features, batch_labels, cost, accuracy)"
   ]
  },
  {
   "cell_type": "markdown",
   "metadata": {
    "deletable": true,
    "editable": true
   },
   "source": [
    "### Fully Train the Model\n",
    "Now that you got a good accuracy with a single CIFAR-10 batch, try it with all five batches."
   ]
  },
  {
   "cell_type": "code",
   "execution_count": null,
   "metadata": {
    "collapsed": false,
    "deletable": true,
    "editable": true
   },
   "outputs": [
    {
     "name": "stdout",
     "output_type": "stream",
     "text": [
      "Training...\n",
      "Epoch  1, CIFAR-10 Batch 1:  Loss:     2.1744 Validation Accuracy: 0.281000\n",
      "Epoch  1, CIFAR-10 Batch 2:  Loss:     1.8425 Validation Accuracy: 0.386600\n",
      "Epoch  1, CIFAR-10 Batch 3:  Loss:     1.5655 Validation Accuracy: 0.407800\n",
      "Epoch  1, CIFAR-10 Batch 4:  Loss:     1.5624 Validation Accuracy: 0.453400\n",
      "Epoch  1, CIFAR-10 Batch 5:  Loss:     1.5040 Validation Accuracy: 0.466600\n",
      "Epoch  2, CIFAR-10 Batch 1:  Loss:     1.7994 Validation Accuracy: 0.472800\n",
      "Epoch  2, CIFAR-10 Batch 2:  Loss:     1.4649 Validation Accuracy: 0.487200\n",
      "Epoch  2, CIFAR-10 Batch 3:  Loss:     1.2250 Validation Accuracy: 0.497600\n",
      "Epoch  2, CIFAR-10 Batch 4:  Loss:     1.3539 Validation Accuracy: 0.518200\n",
      "Epoch  2, CIFAR-10 Batch 5:  Loss:     1.3017 Validation Accuracy: 0.515000\n",
      "Epoch  3, CIFAR-10 Batch 1:  Loss:     1.5243 Validation Accuracy: 0.529800\n",
      "Epoch  3, CIFAR-10 Batch 2:  Loss:     1.3398 Validation Accuracy: 0.541400\n",
      "Epoch  3, CIFAR-10 Batch 3:  Loss:     1.1586 Validation Accuracy: 0.530000\n",
      "Epoch  3, CIFAR-10 Batch 4:  Loss:     1.1209 Validation Accuracy: 0.535400\n",
      "Epoch  3, CIFAR-10 Batch 5:  Loss:     1.1864 Validation Accuracy: 0.539400\n",
      "Epoch  4, CIFAR-10 Batch 1:  Loss:     1.2591 Validation Accuracy: 0.562400\n",
      "Epoch  4, CIFAR-10 Batch 2:  Loss:     1.1980 Validation Accuracy: 0.561800\n",
      "Epoch  4, CIFAR-10 Batch 3:  Loss:     1.0030 Validation Accuracy: 0.567200\n",
      "Epoch  4, CIFAR-10 Batch 4:  Loss:     0.9883 Validation Accuracy: 0.585000\n",
      "Epoch  4, CIFAR-10 Batch 5:  Loss:     1.0765 Validation Accuracy: 0.574400\n",
      "Epoch  5, CIFAR-10 Batch 1:  Loss:     1.1408 Validation Accuracy: 0.592800\n",
      "Epoch  5, CIFAR-10 Batch 2:  Loss:     1.0893 Validation Accuracy: 0.593400\n",
      "Epoch  5, CIFAR-10 Batch 3:  Loss:     0.9332 Validation Accuracy: 0.594200\n",
      "Epoch  5, CIFAR-10 Batch 4:  Loss:     0.8853 Validation Accuracy: 0.599600\n",
      "Epoch  5, CIFAR-10 Batch 5:  Loss:     0.9459 Validation Accuracy: 0.598600\n",
      "Epoch  6, CIFAR-10 Batch 1:  Loss:     0.9847 Validation Accuracy: 0.612800\n",
      "Epoch  6, CIFAR-10 Batch 2:  Loss:     1.0011 Validation Accuracy: 0.604000\n",
      "Epoch  6, CIFAR-10 Batch 3:  Loss:     0.9171 Validation Accuracy: 0.616600\n",
      "Epoch  6, CIFAR-10 Batch 4:  Loss:     0.8153 Validation Accuracy: 0.614600\n",
      "Epoch  6, CIFAR-10 Batch 5:  Loss:     0.9857 Validation Accuracy: 0.590200\n",
      "Epoch  7, CIFAR-10 Batch 1:  Loss:     0.9079 Validation Accuracy: 0.624600\n",
      "Epoch  7, CIFAR-10 Batch 2:  Loss:     0.9262 Validation Accuracy: 0.632200\n",
      "Epoch  7, CIFAR-10 Batch 3:  Loss:     0.7942 Validation Accuracy: 0.631600\n",
      "Epoch  7, CIFAR-10 Batch 4:  Loss:     0.7218 Validation Accuracy: 0.634800\n",
      "Epoch  7, CIFAR-10 Batch 5:  Loss:     0.8845 Validation Accuracy: 0.639400\n",
      "Epoch  8, CIFAR-10 Batch 1:  Loss:     0.8707 Validation Accuracy: 0.644000\n",
      "Epoch  8, CIFAR-10 Batch 2:  Loss:     0.8538 Validation Accuracy: 0.631600\n",
      "Epoch  8, CIFAR-10 Batch 3:  Loss:     0.7912 Validation Accuracy: 0.641400\n",
      "Epoch  8, CIFAR-10 Batch 4:  Loss:     0.6592 Validation Accuracy: 0.654400\n",
      "Epoch  8, CIFAR-10 Batch 5:  Loss:     0.7839 Validation Accuracy: 0.642800\n",
      "Epoch  9, CIFAR-10 Batch 1:  Loss:     0.7596 Validation Accuracy: 0.638600\n",
      "Epoch  9, CIFAR-10 Batch 2:  Loss:     0.8037 Validation Accuracy: 0.658800\n",
      "Epoch  9, CIFAR-10 Batch 3:  Loss:     0.6696 Validation Accuracy: 0.653600\n",
      "Epoch  9, CIFAR-10 Batch 4:  Loss:     0.6421 Validation Accuracy: 0.654400\n",
      "Epoch  9, CIFAR-10 Batch 5:  Loss:     0.7168 Validation Accuracy: 0.649400\n",
      "Epoch 10, CIFAR-10 Batch 1:  Loss:     0.6929 Validation Accuracy: 0.654600\n",
      "Epoch 10, CIFAR-10 Batch 2:  Loss:     0.8110 Validation Accuracy: 0.657800\n",
      "Epoch 10, CIFAR-10 Batch 3:  Loss:     0.5792 Validation Accuracy: 0.666800\n",
      "Epoch 10, CIFAR-10 Batch 4:  Loss:     0.5635 Validation Accuracy: 0.663200\n",
      "Epoch 10, CIFAR-10 Batch 5:  Loss:     0.6471 Validation Accuracy: 0.663000\n",
      "Epoch 11, CIFAR-10 Batch 1:  Loss:     0.6399 Validation Accuracy: 0.672000\n",
      "Epoch 11, CIFAR-10 Batch 2:  Loss:     0.6769 Validation Accuracy: 0.663800\n",
      "Epoch 11, CIFAR-10 Batch 3:  Loss:     0.5943 Validation Accuracy: 0.671200\n",
      "Epoch 11, CIFAR-10 Batch 4:  Loss:     0.5215 Validation Accuracy: 0.674200\n",
      "Epoch 11, CIFAR-10 Batch 5:  Loss:     0.6065 Validation Accuracy: 0.659800\n",
      "Epoch 12, CIFAR-10 Batch 1:  Loss:     0.6474 Validation Accuracy: 0.666200\n",
      "Epoch 12, CIFAR-10 Batch 2:  Loss:     0.6089 Validation Accuracy: 0.681400\n",
      "Epoch 12, CIFAR-10 Batch 3:  Loss:     0.5362 Validation Accuracy: 0.664800\n",
      "Epoch 12, CIFAR-10 Batch 4:  Loss:     0.5157 Validation Accuracy: 0.676000\n",
      "Epoch 12, CIFAR-10 Batch 5:  Loss:     0.6157 Validation Accuracy: 0.667200\n",
      "Epoch 13, CIFAR-10 Batch 1:  Loss:     0.5762 Validation Accuracy: 0.680600\n",
      "Epoch 13, CIFAR-10 Batch 2:  Loss:     0.6184 Validation Accuracy: 0.679600\n",
      "Epoch 13, CIFAR-10 Batch 3:  Loss:     0.4829 Validation Accuracy: 0.674400\n",
      "Epoch 13, CIFAR-10 Batch 4:  Loss:     0.4359 Validation Accuracy: 0.674400\n",
      "Epoch 13, CIFAR-10 Batch 5:  Loss:     0.5224 Validation Accuracy: 0.684400\n",
      "Epoch 14, CIFAR-10 Batch 1:  Loss:     0.5274 Validation Accuracy: 0.676200\n",
      "Epoch 14, CIFAR-10 Batch 2:  Loss:     0.5139 Validation Accuracy: 0.686200\n",
      "Epoch 14, CIFAR-10 Batch 3:  Loss:     0.4382 Validation Accuracy: 0.691600\n",
      "Epoch 14, CIFAR-10 Batch 4:  Loss:     0.4071 Validation Accuracy: 0.686600\n",
      "Epoch 14, CIFAR-10 Batch 5:  Loss:     0.4945 Validation Accuracy: 0.686200\n",
      "Epoch 15, CIFAR-10 Batch 1:  Loss:     0.4879 Validation Accuracy: 0.678400\n",
      "Epoch 15, CIFAR-10 Batch 2:  Loss:     0.4899 Validation Accuracy: 0.693600\n",
      "Epoch 15, CIFAR-10 Batch 3:  Loss:     0.4346 Validation Accuracy: 0.695600\n",
      "Epoch 15, CIFAR-10 Batch 4:  Loss:     0.4003 Validation Accuracy: 0.693400\n",
      "Epoch 15, CIFAR-10 Batch 5:  Loss:     0.4542 Validation Accuracy: 0.682000\n",
      "Epoch 16, CIFAR-10 Batch 1:  Loss:     0.3823 Validation Accuracy: 0.690600\n",
      "Epoch 16, CIFAR-10 Batch 2:  Loss:     0.4901 Validation Accuracy: 0.691000\n",
      "Epoch 16, CIFAR-10 Batch 3:  Loss:     0.3971 Validation Accuracy: 0.687600\n",
      "Epoch 16, CIFAR-10 Batch 4:  Loss:     0.4480 Validation Accuracy: 0.684400\n",
      "Epoch 16, CIFAR-10 Batch 5:  Loss:     0.4366 Validation Accuracy: 0.687000\n",
      "Epoch 17, CIFAR-10 Batch 1:  Loss:     0.4049 Validation Accuracy: 0.693800\n",
      "Epoch 17, CIFAR-10 Batch 2:  Loss:     0.3962 Validation Accuracy: 0.695200\n",
      "Epoch 17, CIFAR-10 Batch 3:  Loss:     0.3754 Validation Accuracy: 0.694000\n",
      "Epoch 17, CIFAR-10 Batch 4:  Loss:     0.3734 Validation Accuracy: 0.686000\n",
      "Epoch 17, CIFAR-10 Batch 5:  Loss:     0.4559 Validation Accuracy: 0.676200\n",
      "Epoch 18, CIFAR-10 Batch 1:  Loss:     0.3816 Validation Accuracy: 0.692000\n",
      "Epoch 18, CIFAR-10 Batch 2:  Loss:     0.3653 Validation Accuracy: 0.697200\n",
      "Epoch 18, CIFAR-10 Batch 3:  Loss:     0.3354 Validation Accuracy: 0.697600\n",
      "Epoch 18, CIFAR-10 Batch 4:  Loss:     0.3570 Validation Accuracy: 0.699400\n",
      "Epoch 18, CIFAR-10 Batch 5:  Loss:     0.4041 Validation Accuracy: 0.687600\n",
      "Epoch 19, CIFAR-10 Batch 1:  Loss:     0.3763 Validation Accuracy: 0.699400\n",
      "Epoch 19, CIFAR-10 Batch 2:  Loss:     0.3287 Validation Accuracy: 0.699800\n",
      "Epoch 19, CIFAR-10 Batch 3:  Loss:     0.3661 Validation Accuracy: 0.688400\n",
      "Epoch 19, CIFAR-10 Batch 4:  Loss:     0.3084 Validation Accuracy: 0.697400\n",
      "Epoch 19, CIFAR-10 Batch 5:  Loss:     0.3206 Validation Accuracy: 0.693400\n",
      "Epoch 20, CIFAR-10 Batch 1:  Loss:     0.3154 Validation Accuracy: 0.702800\n",
      "Epoch 20, CIFAR-10 Batch 2:  Loss:     0.3082 Validation Accuracy: 0.695600\n",
      "Epoch 20, CIFAR-10 Batch 3:  Loss:     0.2871 Validation Accuracy: 0.684800\n",
      "Epoch 20, CIFAR-10 Batch 4:  Loss:     0.3239 Validation Accuracy: 0.702800\n",
      "Epoch 20, CIFAR-10 Batch 5:  Loss:     0.3430 Validation Accuracy: 0.698400\n",
      "Epoch 21, CIFAR-10 Batch 1:  Loss:     0.3169 Validation Accuracy: 0.699400\n",
      "Epoch 21, CIFAR-10 Batch 2:  Loss:     0.2974 Validation Accuracy: 0.702600\n",
      "Epoch 21, CIFAR-10 Batch 3:  Loss:     0.2904 Validation Accuracy: 0.686600\n",
      "Epoch 21, CIFAR-10 Batch 4:  Loss:     0.3301 Validation Accuracy: 0.701800\n",
      "Epoch 21, CIFAR-10 Batch 5:  Loss:     0.3155 Validation Accuracy: 0.687200\n",
      "Epoch 22, CIFAR-10 Batch 1:  Loss:     0.3246 Validation Accuracy: 0.705800\n",
      "Epoch 22, CIFAR-10 Batch 2:  Loss:     0.2754 Validation Accuracy: 0.709000\n",
      "Epoch 22, CIFAR-10 Batch 3:  Loss:     0.2594 Validation Accuracy: 0.700800\n",
      "Epoch 22, CIFAR-10 Batch 4:  Loss:     0.3044 Validation Accuracy: 0.707000\n",
      "Epoch 22, CIFAR-10 Batch 5:  Loss:     0.2913 Validation Accuracy: 0.705800\n",
      "Epoch 23, CIFAR-10 Batch 1:  Loss:     0.3020 Validation Accuracy: 0.705200\n",
      "Epoch 23, CIFAR-10 Batch 2:  Loss:     0.2634 Validation Accuracy: 0.706200\n",
      "Epoch 23, CIFAR-10 Batch 3:  Loss:     0.2422 Validation Accuracy: 0.694000\n",
      "Epoch 23, CIFAR-10 Batch 4:  Loss:     0.2749 Validation Accuracy: 0.704800\n",
      "Epoch 23, CIFAR-10 Batch 5:  Loss:     0.3003 Validation Accuracy: 0.696400\n",
      "Epoch 24, CIFAR-10 Batch 1:  Loss:     0.2715 Validation Accuracy: 0.710600\n",
      "Epoch 24, CIFAR-10 Batch 2:  Loss:     0.2446 Validation Accuracy: 0.694200\n",
      "Epoch 24, CIFAR-10 Batch 3:  Loss:     0.2125 Validation Accuracy: 0.704400\n",
      "Epoch 24, CIFAR-10 Batch 4:  Loss:     0.3037 Validation Accuracy: 0.690600\n",
      "Epoch 24, CIFAR-10 Batch 5:  Loss:     0.2816 Validation Accuracy: 0.698600\n",
      "Epoch 25, CIFAR-10 Batch 1:  Loss:     0.2848 Validation Accuracy: 0.710000\n",
      "Epoch 25, CIFAR-10 Batch 2:  Loss:     0.2591 Validation Accuracy: 0.714000\n",
      "Epoch 25, CIFAR-10 Batch 3:  Loss:     0.2281 Validation Accuracy: 0.698000\n",
      "Epoch 25, CIFAR-10 Batch 4:  Loss:     0.2354 Validation Accuracy: 0.701200\n",
      "Epoch 25, CIFAR-10 Batch 5:  Loss:     0.2616 Validation Accuracy: 0.705800\n",
      "Epoch 26, CIFAR-10 Batch 1:  Loss:     0.2677 Validation Accuracy: 0.718200\n",
      "Epoch 26, CIFAR-10 Batch 2:  Loss:     0.2372 Validation Accuracy: 0.715400\n",
      "Epoch 26, CIFAR-10 Batch 3:  Loss:     0.2122 Validation Accuracy: 0.707400\n",
      "Epoch 26, CIFAR-10 Batch 4:  Loss:     0.2352 Validation Accuracy: 0.705800\n",
      "Epoch 26, CIFAR-10 Batch 5:  Loss:     0.2291 Validation Accuracy: 0.707000\n",
      "Epoch 27, CIFAR-10 Batch 1:  Loss:     0.2369 Validation Accuracy: 0.711800\n",
      "Epoch 27, CIFAR-10 Batch 2:  Loss:     0.2238 Validation Accuracy: 0.701600\n",
      "Epoch 27, CIFAR-10 Batch 3:  Loss:     0.1835 Validation Accuracy: 0.698400\n",
      "Epoch 27, CIFAR-10 Batch 4:  Loss:     0.1869 Validation Accuracy: 0.709400\n",
      "Epoch 27, CIFAR-10 Batch 5:  Loss:     0.2071 Validation Accuracy: 0.706200\n",
      "Epoch 28, CIFAR-10 Batch 1:  Loss:     0.2496 Validation Accuracy: 0.706000\n",
      "Epoch 28, CIFAR-10 Batch 2:  Loss:     0.2264 Validation Accuracy: 0.712400\n",
      "Epoch 28, CIFAR-10 Batch 3:  Loss:     0.1951 Validation Accuracy: 0.701400\n",
      "Epoch 28, CIFAR-10 Batch 4:  Loss:     0.2267 Validation Accuracy: 0.698200\n",
      "Epoch 28, CIFAR-10 Batch 5:  Loss:     0.1832 Validation Accuracy: 0.711600\n",
      "Epoch 29, CIFAR-10 Batch 1:  Loss:     0.2271 Validation Accuracy: 0.717800\n",
      "Epoch 29, CIFAR-10 Batch 2:  Loss:     0.2094 Validation Accuracy: 0.719000\n",
      "Epoch 29, CIFAR-10 Batch 3:  Loss:     0.1871 Validation Accuracy: 0.712400\n",
      "Epoch 29, CIFAR-10 Batch 4:  Loss:     0.1850 Validation Accuracy: 0.709600\n",
      "Epoch 29, CIFAR-10 Batch 5:  Loss:     0.2172 Validation Accuracy: 0.713800\n",
      "Epoch 30, CIFAR-10 Batch 1:  Loss:     0.1953 Validation Accuracy: 0.713200\n",
      "Epoch 30, CIFAR-10 Batch 2:  Loss:     0.1916 Validation Accuracy: 0.718800\n",
      "Epoch 30, CIFAR-10 Batch 3:  Loss:     0.1558 Validation Accuracy: 0.710200\n",
      "Epoch 30, CIFAR-10 Batch 4:  Loss:     0.1809 Validation Accuracy: 0.717200\n",
      "Epoch 30, CIFAR-10 Batch 5:  Loss:     0.2184 Validation Accuracy: 0.714600\n",
      "Epoch 31, CIFAR-10 Batch 1:  Loss:     0.2114 Validation Accuracy: 0.715200\n",
      "Epoch 31, CIFAR-10 Batch 2:  Loss:     0.1982 Validation Accuracy: 0.719000\n",
      "Epoch 31, CIFAR-10 Batch 3:  Loss:     0.1847 Validation Accuracy: 0.709400\n",
      "Epoch 31, CIFAR-10 Batch 4:  Loss:     0.1584 Validation Accuracy: 0.714400\n",
      "Epoch 31, CIFAR-10 Batch 5:  Loss:     0.1747 Validation Accuracy: 0.713800\n",
      "Epoch 32, CIFAR-10 Batch 1:  Loss:     0.1636 Validation Accuracy: 0.716600\n",
      "Epoch 32, CIFAR-10 Batch 2:  Loss:     0.2149 Validation Accuracy: 0.718800\n",
      "Epoch 32, CIFAR-10 Batch 3:  Loss:     0.1541 Validation Accuracy: 0.713200\n",
      "Epoch 32, CIFAR-10 Batch 4:  Loss:     0.1625 Validation Accuracy: 0.706600\n",
      "Epoch 32, CIFAR-10 Batch 5:  Loss:     0.1956 Validation Accuracy: 0.717200\n",
      "Epoch 33, CIFAR-10 Batch 1:  Loss:     0.1878 Validation Accuracy: 0.714600\n",
      "Epoch 33, CIFAR-10 Batch 2:  Loss:     0.1801 Validation Accuracy: 0.718400\n",
      "Epoch 33, CIFAR-10 Batch 3:  Loss:     0.1842 Validation Accuracy: 0.708800\n",
      "Epoch 33, CIFAR-10 Batch 4:  Loss:     0.1628 Validation Accuracy: 0.710400\n",
      "Epoch 33, CIFAR-10 Batch 5:  Loss:     0.2076 Validation Accuracy: 0.713600\n",
      "Epoch 34, CIFAR-10 Batch 1:  Loss:     0.1550 Validation Accuracy: 0.715400\n",
      "Epoch 34, CIFAR-10 Batch 2:  Loss:     0.2168 Validation Accuracy: 0.705800\n",
      "Epoch 34, CIFAR-10 Batch 3:  Loss:     0.1829 Validation Accuracy: 0.694000\n",
      "Epoch 34, CIFAR-10 Batch 4:  Loss:     0.1591 Validation Accuracy: 0.717600\n",
      "Epoch 34, CIFAR-10 Batch 5:  Loss:     0.1752 Validation Accuracy: 0.720200\n",
      "Epoch 35, CIFAR-10 Batch 1:  Loss:     0.1779 Validation Accuracy: 0.717600\n",
      "Epoch 35, CIFAR-10 Batch 2:  Loss:     0.1649 Validation Accuracy: 0.718200\n",
      "Epoch 35, CIFAR-10 Batch 3:  Loss:     0.1276 Validation Accuracy: 0.708800\n",
      "Epoch 35, CIFAR-10 Batch 4:  Loss:     0.1584 Validation Accuracy: 0.719600\n",
      "Epoch 35, CIFAR-10 Batch 5:  Loss:     0.1517 Validation Accuracy: 0.720400\n",
      "Epoch 36, CIFAR-10 Batch 1:  Loss:     0.1945 Validation Accuracy: 0.715200\n",
      "Epoch 36, CIFAR-10 Batch 2:  Loss:     0.1609 Validation Accuracy: 0.718000\n",
      "Epoch 36, CIFAR-10 Batch 3:  Loss:     0.1486 Validation Accuracy: 0.701400\n",
      "Epoch 36, CIFAR-10 Batch 4:  Loss:     0.1266 Validation Accuracy: 0.714600\n",
      "Epoch 36, CIFAR-10 Batch 5:  Loss:     0.1476 Validation Accuracy: 0.715400\n",
      "Epoch 37, CIFAR-10 Batch 1:  Loss:     0.1601 Validation Accuracy: 0.719000\n",
      "Epoch 37, CIFAR-10 Batch 2:  Loss:     0.1742 Validation Accuracy: 0.715000\n",
      "Epoch 37, CIFAR-10 Batch 3:  Loss:     0.1328 Validation Accuracy: 0.699000\n",
      "Epoch 37, CIFAR-10 Batch 4:  Loss:     0.1198 Validation Accuracy: 0.715200\n",
      "Epoch 37, CIFAR-10 Batch 5:  Loss:     0.1406 Validation Accuracy: 0.716200\n",
      "Epoch 38, CIFAR-10 Batch 1:  Loss:     0.1347 Validation Accuracy: 0.718600\n",
      "Epoch 38, CIFAR-10 Batch 2:  Loss:     0.1622 Validation Accuracy: 0.708800\n",
      "Epoch 38, CIFAR-10 Batch 3:  Loss:     0.1337 Validation Accuracy: 0.713600\n",
      "Epoch 38, CIFAR-10 Batch 4:  Loss:     0.1214 Validation Accuracy: 0.720800\n",
      "Epoch 38, CIFAR-10 Batch 5:  Loss:     0.1435 Validation Accuracy: 0.708800\n",
      "Epoch 39, CIFAR-10 Batch 1:  Loss:     0.1142 Validation Accuracy: 0.719600\n",
      "Epoch 39, CIFAR-10 Batch 2:  Loss:     0.1666 Validation Accuracy: 0.711800\n",
      "Epoch 39, CIFAR-10 Batch 3:  Loss:     0.1264 Validation Accuracy: 0.710600\n",
      "Epoch 39, CIFAR-10 Batch 4:  Loss:     0.1237 Validation Accuracy: 0.715000\n",
      "Epoch 39, CIFAR-10 Batch 5:  Loss:     0.1429 Validation Accuracy: 0.713000\n",
      "Epoch 40, CIFAR-10 Batch 1:  Loss:     0.1514 Validation Accuracy: 0.713600\n",
      "Epoch 40, CIFAR-10 Batch 2:  Loss:     0.1406 Validation Accuracy: 0.719600\n",
      "Epoch 40, CIFAR-10 Batch 3:  Loss:     0.1219 Validation Accuracy: 0.709400\n",
      "Epoch 40, CIFAR-10 Batch 4:  Loss:     0.1142 Validation Accuracy: 0.724800\n",
      "Epoch 40, CIFAR-10 Batch 5:  Loss:     0.1362 Validation Accuracy: 0.716400\n",
      "Epoch 41, CIFAR-10 Batch 1:  Loss:     0.1423 Validation Accuracy: 0.721800\n",
      "Epoch 41, CIFAR-10 Batch 2:  Loss:     0.1409 Validation Accuracy: 0.716400\n",
      "Epoch 41, CIFAR-10 Batch 3:  Loss:     0.1041 Validation Accuracy: 0.722800\n",
      "Epoch 41, CIFAR-10 Batch 4:  Loss:     0.1224 Validation Accuracy: 0.705800\n",
      "Epoch 41, CIFAR-10 Batch 5:  Loss:     0.1070 Validation Accuracy: 0.715800\n",
      "Epoch 42, CIFAR-10 Batch 1:  Loss:     0.1254 Validation Accuracy: 0.714200\n",
      "Epoch 42, CIFAR-10 Batch 2:  Loss:     0.1488 Validation Accuracy: 0.705400\n",
      "Epoch 42, CIFAR-10 Batch 3:  Loss:     0.1102 Validation Accuracy: 0.712200\n",
      "Epoch 42, CIFAR-10 Batch 4:  Loss:     0.0985 Validation Accuracy: 0.721600\n",
      "Epoch 42, CIFAR-10 Batch 5:  Loss:     0.1179 Validation Accuracy: 0.712400\n",
      "Epoch 43, CIFAR-10 Batch 1:  Loss:     0.1231 Validation Accuracy: 0.711800\n",
      "Epoch 43, CIFAR-10 Batch 2:  Loss:     0.1250 Validation Accuracy: 0.717000\n",
      "Epoch 43, CIFAR-10 Batch 3:  Loss:     0.0936 Validation Accuracy: 0.711000\n",
      "Epoch 43, CIFAR-10 Batch 4:  Loss:     0.1059 Validation Accuracy: 0.715800\n",
      "Epoch 43, CIFAR-10 Batch 5:  Loss:     0.0990 Validation Accuracy: 0.719800\n",
      "Epoch 44, CIFAR-10 Batch 1:  Loss:     0.1164 Validation Accuracy: 0.720400\n",
      "Epoch 44, CIFAR-10 Batch 2:  Loss:     0.1158 Validation Accuracy: 0.714200\n",
      "Epoch 44, CIFAR-10 Batch 3:  Loss:     0.1040 Validation Accuracy: 0.703800\n",
      "Epoch 44, CIFAR-10 Batch 4:  Loss:     0.1080 Validation Accuracy: 0.713600\n",
      "Epoch 44, CIFAR-10 Batch 5:  Loss:     0.1015 Validation Accuracy: 0.712800\n",
      "Epoch 45, CIFAR-10 Batch 1:  Loss:     0.1144 Validation Accuracy: 0.714000\n",
      "Epoch 45, CIFAR-10 Batch 2:  Loss:     0.1221 Validation Accuracy: 0.715600\n",
      "Epoch 45, CIFAR-10 Batch 3:  Loss:     0.1019 Validation Accuracy: 0.722800\n",
      "Epoch 45, CIFAR-10 Batch 4:  Loss:     0.0901 Validation Accuracy: 0.723400\n",
      "Epoch 45, CIFAR-10 Batch 5:  Loss:     0.1011 Validation Accuracy: 0.709400\n",
      "Epoch 46, CIFAR-10 Batch 1:  Loss:     0.1042 Validation Accuracy: 0.706600\n",
      "Epoch 46, CIFAR-10 Batch 2:  Loss:     0.0895 Validation Accuracy: 0.711200\n",
      "Epoch 46, CIFAR-10 Batch 3:  Loss:     0.1082 Validation Accuracy: 0.710600\n",
      "Epoch 46, CIFAR-10 Batch 4:  Loss:     0.1007 Validation Accuracy: 0.712200\n",
      "Epoch 46, CIFAR-10 Batch 5:  Loss:     0.0973 Validation Accuracy: 0.716600\n",
      "Epoch 47, CIFAR-10 Batch 1:  Loss:     0.1137 Validation Accuracy: 0.716600\n",
      "Epoch 47, CIFAR-10 Batch 2:  Loss:     0.1117 Validation Accuracy: 0.715600\n",
      "Epoch 47, CIFAR-10 Batch 3:  Loss:     0.0851 Validation Accuracy: 0.709000\n",
      "Epoch 47, CIFAR-10 Batch 4:  Loss:     0.1088 Validation Accuracy: 0.722200\n",
      "Epoch 47, CIFAR-10 Batch 5:  Loss:     0.0868 Validation Accuracy: 0.728200\n",
      "Epoch 48, CIFAR-10 Batch 1:  Loss:     0.1277 Validation Accuracy: 0.719000\n",
      "Epoch 48, CIFAR-10 Batch 2:  Loss:     0.1168 Validation Accuracy: 0.712400\n",
      "Epoch 48, CIFAR-10 Batch 3:  Loss:     0.0914 Validation Accuracy: 0.705200\n",
      "Epoch 48, CIFAR-10 Batch 4:  Loss:     0.0714 Validation Accuracy: 0.719600\n",
      "Epoch 48, CIFAR-10 Batch 5:  Loss:     0.1105 Validation Accuracy: 0.715400\n",
      "Epoch 49, CIFAR-10 Batch 1:  Loss:     0.0994 Validation Accuracy: 0.718600\n",
      "Epoch 49, CIFAR-10 Batch 2:  Loss:     0.0983 Validation Accuracy: 0.701400\n",
      "Epoch 49, CIFAR-10 Batch 3:  Loss:     0.1015 Validation Accuracy: 0.701200\n",
      "Epoch 49, CIFAR-10 Batch 4:  Loss:     0.0794 Validation Accuracy: 0.710600\n",
      "Epoch 49, CIFAR-10 Batch 5:  Loss:     0.1063 Validation Accuracy: 0.710000\n",
      "Epoch 50, CIFAR-10 Batch 1:  Loss:     0.1183 Validation Accuracy: 0.710000\n",
      "Epoch 50, CIFAR-10 Batch 2:  Loss:     0.1016 Validation Accuracy: 0.710000\n",
      "Epoch 50, CIFAR-10 Batch 3:  Loss:     0.0873 Validation Accuracy: 0.717600\n",
      "Epoch 50, CIFAR-10 Batch 4:  Loss:     0.0871 Validation Accuracy: 0.716000\n",
      "Epoch 50, CIFAR-10 Batch 5:  Loss:     0.0800 Validation Accuracy: 0.715000\n",
      "Epoch 51, CIFAR-10 Batch 1:  Loss:     0.0931 Validation Accuracy: 0.706200\n",
      "Epoch 51, CIFAR-10 Batch 2:  Loss:     0.0906 Validation Accuracy: 0.715400\n",
      "Epoch 51, CIFAR-10 Batch 3:  Loss:     0.0737 Validation Accuracy: 0.713200\n",
      "Epoch 51, CIFAR-10 Batch 4:  Loss:     0.0837 Validation Accuracy: 0.708800\n",
      "Epoch 51, CIFAR-10 Batch 5:  Loss:     0.0802 Validation Accuracy: 0.722000\n",
      "Epoch 52, CIFAR-10 Batch 1:  Loss:     0.1015 Validation Accuracy: 0.715400\n",
      "Epoch 52, CIFAR-10 Batch 2:  Loss:     0.0800 Validation Accuracy: 0.700000\n",
      "Epoch 52, CIFAR-10 Batch 3:  Loss:     0.0747 Validation Accuracy: 0.711200\n",
      "Epoch 52, CIFAR-10 Batch 4:  Loss:     0.0740 Validation Accuracy: 0.715200\n",
      "Epoch 52, CIFAR-10 Batch 5:  Loss:     0.0695 Validation Accuracy: 0.716800\n",
      "Epoch 53, CIFAR-10 Batch 1:  Loss:     0.0787 Validation Accuracy: 0.710800\n",
      "Epoch 53, CIFAR-10 Batch 2:  Loss:     0.0884 Validation Accuracy: 0.706800\n",
      "Epoch 53, CIFAR-10 Batch 3:  Loss:     0.0743 Validation Accuracy: 0.701400\n",
      "Epoch 53, CIFAR-10 Batch 4:  Loss:     0.0700 Validation Accuracy: 0.707400\n",
      "Epoch 53, CIFAR-10 Batch 5:  Loss:     0.0848 Validation Accuracy: 0.706600\n",
      "Epoch 54, CIFAR-10 Batch 1:  Loss:     0.0941 Validation Accuracy: 0.708400\n",
      "Epoch 54, CIFAR-10 Batch 2:  Loss:     0.0814 Validation Accuracy: 0.710600\n",
      "Epoch 54, CIFAR-10 Batch 3:  Loss:     0.0775 Validation Accuracy: 0.703200\n",
      "Epoch 54, CIFAR-10 Batch 4:  Loss:     0.0699 Validation Accuracy: 0.712400\n",
      "Epoch 54, CIFAR-10 Batch 5:  Loss:     0.0882 Validation Accuracy: 0.706000\n",
      "Epoch 55, CIFAR-10 Batch 1:  Loss:     0.0895 Validation Accuracy: 0.704000\n"
     ]
    }
   ],
   "source": [
    "\"\"\"\n",
    "DON'T MODIFY ANYTHING IN THIS CELL\n",
    "\"\"\"\n",
    "save_model_path = './image_classification'\n",
    "\n",
    "print('Training...')\n",
    "with tf.Session() as sess:\n",
    "    # Initializing the variables\n",
    "    sess.run(tf.global_variables_initializer())\n",
    "    \n",
    "    # Training cycle\n",
    "    for epoch in range(epochs):\n",
    "        # Loop over all batches\n",
    "        n_batches = 5\n",
    "        for batch_i in range(1, n_batches + 1):\n",
    "            for batch_features, batch_labels in helper.load_preprocess_training_batch(batch_i, batch_size):\n",
    "                train_neural_network(sess, optimizer, keep_probability, batch_features, batch_labels)\n",
    "            print('Epoch {:>2}, CIFAR-10 Batch {}:  '.format(epoch + 1, batch_i), end='')\n",
    "            print_stats(sess, batch_features, batch_labels, cost, accuracy)\n",
    "            \n",
    "    # Save Model\n",
    "    saver = tf.train.Saver()\n",
    "    save_path = saver.save(sess, save_model_path)"
   ]
  },
  {
   "cell_type": "markdown",
   "metadata": {
    "deletable": true,
    "editable": true
   },
   "source": [
    "# Checkpoint\n",
    "The model has been saved to disk.\n",
    "## Test Model\n",
    "Test your model against the test dataset.  This will be your final accuracy. You should have an accuracy greater than 50%. If you don't, keep tweaking the model architecture and parameters."
   ]
  },
  {
   "cell_type": "code",
   "execution_count": 18,
   "metadata": {
    "collapsed": false,
    "deletable": true,
    "editable": true
   },
   "outputs": [
    {
     "name": "stdout",
     "output_type": "stream",
     "text": [
      "Testing Accuracy: 0.7091574367088608\n",
      "\n"
     ]
    },
    {
     "data": {
      "image/png": "[encoded data removed]",
      "text/plain": [
       "<matplotlib.figure.Figure at 0x7f6eee706ef0>"
      ]
     },
     "metadata": {
      "image/png": {
       "height": 319,
       "width": 355
      }
     },
     "output_type": "display_data"
    }
   ],
   "source": [
    "\"\"\"\n",
    "DON'T MODIFY ANYTHING IN THIS CELL\n",
    "\"\"\"\n",
    "%matplotlib inline\n",
    "%config InlineBackend.figure_format = 'retina'\n",
    "\n",
    "import tensorflow as tf\n",
    "import pickle\n",
    "import helper\n",
    "import random\n",
    "\n",
    "# Set batch size if not already set\n",
    "try:\n",
    "    if batch_size:\n",
    "        pass\n",
    "except NameError:\n",
    "    batch_size = 64\n",
    "\n",
    "save_model_path = './image_classification'\n",
    "n_samples = 4\n",
    "top_n_predictions = 3\n",
    "\n",
    "def test_model():\n",
    "    \"\"\"\n",
    "    Test the saved model against the test dataset\n",
    "    \"\"\"\n",
    "\n",
    "    test_features, test_labels = pickle.load(open('preprocess_training.p', mode='rb'))\n",
    "    loaded_graph = tf.Graph()\n",
    "\n",
    "    with tf.Session(graph=loaded_graph) as sess:\n",
    "        # Load model\n",
    "        loader = tf.train.import_meta_graph(save_model_path + '.meta')\n",
    "        loader.restore(sess, save_model_path)\n",
    "\n",
    "        # Get Tensors from loaded model\n",
    "        loaded_x = loaded_graph.get_tensor_by_name('x:0')\n",
    "        loaded_y = loaded_graph.get_tensor_by_name('y:0')\n",
    "        loaded_keep_prob = loaded_graph.get_tensor_by_name('keep_prob:0')\n",
    "        loaded_logits = loaded_graph.get_tensor_by_name('logits:0')\n",
    "        loaded_acc = loaded_graph.get_tensor_by_name('accuracy:0')\n",
    "        \n",
    "        # Get accuracy in batches for memory limitations\n",
    "        test_batch_acc_total = 0\n",
    "        test_batch_count = 0\n",
    "        \n",
    "        for train_feature_batch, train_label_batch in helper.batch_features_labels(test_features, test_labels, batch_size):\n",
    "            test_batch_acc_total += sess.run(\n",
    "                loaded_acc,\n",
    "                feed_dict={loaded_x: train_feature_batch, loaded_y: train_label_batch, loaded_keep_prob: 1.0})\n",
    "            test_batch_count += 1\n",
    "\n",
    "        print('Testing Accuracy: {}\\n'.format(test_batch_acc_total/test_batch_count))\n",
    "\n",
    "        # Print Random Samples\n",
    "        random_test_features, random_test_labels = tuple(zip(*random.sample(list(zip(test_features, test_labels)), n_samples)))\n",
    "        random_test_predictions = sess.run(\n",
    "            tf.nn.top_k(tf.nn.softmax(loaded_logits), top_n_predictions),\n",
    "            feed_dict={loaded_x: random_test_features, loaded_y: random_test_labels, loaded_keep_prob: 1.0})\n",
    "        helper.display_image_predictions(random_test_features, random_test_labels, random_test_predictions)\n",
    "\n",
    "\n",
    "test_model()"
   ]
  },
  {
   "cell_type": "markdown",
   "metadata": {
    "deletable": true,
    "editable": true
   },
   "source": [
    "## Why 50-80% Accuracy?\n",
    "You might be wondering why you can't get an accuracy any higher. First things first, 50% isn't bad for a simple CNN.  Pure guessing would get you 10% accuracy. However, you might notice people are getting scores [well above 80%](http://rodrigob.github.io/are_we_there_yet/build/classification_datasets_results.html#43494641522d3130).  That's because we haven't taught you all there is to know about neural networks. We still need to cover a few more techniques.\n",
    "## Submitting This Project\n",
    "When submitting this project, make sure to run all the cells before saving the notebook.  Save the notebook file as \"dlnd_image_classification.ipynb\" and save it as a HTML file under \"File\" -> \"Download as\".  Include the \"helper.py\" and \"problem_unittests.py\" files in your submission."
   ]
  }
 ],
 "metadata": {
  "kernelspec": {
   "display_name": "Python 3",
   "language": "python",
   "name": "python3"
  },
  "language_info": {
   "codemirror_mode": {
    "name": "ipython",
    "version": 3
   },
   "file_extension": ".py",
   "mimetype": "text/x-python",
   "name": "python",
   "nbconvert_exporter": "python",
   "pygments_lexer": "ipython3",
   "version": "3.5.2"
  },
  "widgets": {
   "state": {},
   "version": "1.1.2"
  }
 },
 "nbformat": 4,
 "nbformat_minor": 0
}
